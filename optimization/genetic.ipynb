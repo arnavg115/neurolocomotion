{
  "nbformat": 4,
  "nbformat_minor": 0,
  "metadata": {
    "colab": {
      "provenance": [],
      "collapsed_sections": []
    },
    "kernelspec": {
      "name": "python3",
      "display_name": "Python 3"
    },
    "language_info": {
      "name": "python"
    }
  },
  "cells": [
    {
      "cell_type": "code",
      "execution_count": null,
      "metadata": {
        "id": "h3YZYqyfsGym"
      },
      "outputs": [],
      "source": [
        "import numpy as np\n",
        "from scipy import optimize\n",
        "import matplotlib.pyplot as plt\n",
        "import random\n",
        "from tqdm import tqdm\n",
        "import math"
      ]
    },
    {
      "cell_type": "code",
      "source": [
        "W = 3\n",
        "N = 200\n",
        "phi = 0.25"
      ],
      "metadata": {
        "id": "JrcqxlATuMo9"
      },
      "execution_count": null,
      "outputs": []
    },
    {
      "cell_type": "code",
      "source": [
        "def H(x):\n",
        "  y = (x+1) % 1\n",
        "  # print(y)\n",
        "  return -y * (y-0.25) * (y-1)\n",
        "  # return -x * (x-0.25) * (x-1)"
      ],
      "metadata": {
        "id": "mUZfE2ihucr7"
      },
      "execution_count": null,
      "outputs": []
    },
    {
      "cell_type": "code",
      "source": [
        "class Individual:\n",
        "  def __init__(self,parent = False, parent1 = None,clone = False) -> None:\n",
        "      if parent:\n",
        "        self.alpha = np.copy(parent1.alpha)\n",
        "        self.gamma = np.copy(parent1.gamma)\n",
        "        # if clone:\n",
        "        #   print(\"clone\")\n",
        "\n",
        "        if clone != True:\n",
        "          # print(\"not clone\")\n",
        "          # if random.random() < 0.9:\n",
        "          rand = np.random.randint(0,2,(4))\n",
        "          # print(rand)\n",
        "          self.alpha[rand[0],rand[1]] = np.random.uniform(-1,1)\n",
        "          self.gamma[rand[2],rand[3]] = np.random.uniform(-1,1)\n",
        "\n",
        "        \n",
        "      else:    \n",
        "        self.gamma = np.random.uniform(-1,1,(2,2))\n",
        "        self.alpha = np.random.uniform(-1,1,(2,2))\n",
        "      \n",
        "\n",
        "  def stabilities(self):\n",
        "      g = lambda x: (self.alpha[0,0]*H(x) + self.alpha[0,1]*H((x+0.5)%1) + self.alpha[1,0]*H(x)+ self.alpha[1,1]* H((x+0.5) %1)) -(self.gamma[0,0]*H(-x)+ self.gamma[0,1]*H((-x+0.5)%1) + self.gamma[1,0]* H((-x+0.5)%1) + self.gamma[1,1]*H(-x))\n",
        "      j = optimize.fsolve(g,[0,1,0.5])\n",
        "      \n",
        "      # u = np.linspace(0,1)\n",
        "      # plt.plot(u, g(u))\n",
        "      # plt.grid(b=True)\n",
        "      # plt.xlabel(\"Φ\")\n",
        "      # plt.ylabel(\"dΦ/dt\")\n",
        "\n",
        "      plt.show()\n",
        "\n",
        "      for i in j:\n",
        "        if (g(i+0.01)- g(i-0.01)) < 0 and i>0 and i<1:\n",
        "          return i\n",
        "      return None\n",
        "            # self.t1 = (DT * (w+ self.alpha[0,0] * H(phi) + self.alpha[0,1] * H((phi+ 0.5)% 1) + self.alpha[1,0] * H(phi)))\n",
        "  "
      ],
      "metadata": {
        "id": "nKARdpHesIzg"
      },
      "execution_count": null,
      "outputs": []
    },
    {
      "cell_type": "code",
      "source": [
        "main = []\n",
        "normeds = []"
      ],
      "metadata": {
        "id": "RIM_MCRz4sD2"
      },
      "execution_count": null,
      "outputs": []
    },
    {
      "cell_type": "code",
      "source": [
        "phin = []\n",
        "inds=[]\n",
        "for jeirdkfhsdfj in range(N):\n",
        " \n",
        "  inds.append(Individual())\n",
        "\n",
        "for ui in tqdm(range(20)):\n",
        "\n",
        "  steps = []\n",
        "  for uti in inds:\n",
        "    steps.append(uti.stabilities())\n",
        "  # print(np.array(steps))\n",
        "  normed = np.absolute(np.array(steps,dtype=float) - phi)\n",
        "  # print(steps)\n",
        "  # print(steps)\n",
        "  # print(np.sort(normed))\n",
        "  phin.append(np.sort(normed)[0])\n",
        "\n",
        "  #   normed = np.absolute(np.array(steps,dtype=float) - phi)\n",
        "\n",
        "  sorted10 = np.argsort(normed)[0:10]\n",
        "  # print(normed[sorted10])\n",
        "  # print(np.sort(normed))\n",
        "  # print(sorted10)\n",
        "  tmp = inds.copy()\n",
        "  inds.clear()\n",
        "  for uoi in sorted10:\n",
        "  #   # print(ui + 2)\n",
        "    # print(tmp[uoi])\n",
        "    for usdhf in range(19):\n",
        "      # print(tmp[uoi])\n",
        "      inds.append(Individual(parent=True, parent1=tmp[uoi]))\n",
        "    inds.append(Individual(parent=True, parent1 = tmp[uoi],clone=True))\n",
        "  \n",
        "  # inds.append(Individual(parent= True, parent1 = tmp[top1]))\n",
        "  \n",
        "# np.where(normed == np.sort(normed)[1])\n",
        "# np.where(normed == np.sort(normed)[])\n",
        "main.append(inds)\n",
        "normeds.append(normed)"
      ],
      "metadata": {
        "colab": {
          "base_uri": "https://localhost:8080/"
        },
        "id": "YzCFWkzdlDV9",
        "outputId": "f911e623-251e-4d0d-e299-070fb586aff9"
      },
      "execution_count": null,
      "outputs": [
        {
          "output_type": "stream",
          "name": "stderr",
          "text": [
            "\r  0%|          | 0/20 [00:00<?, ?it/s]/usr/local/lib/python3.7/dist-packages/scipy/optimize/minpack.py:175: RuntimeWarning: The iteration is not making good progress, as measured by the \n",
            "  improvement from the last five Jacobian evaluations.\n",
            "  warnings.warn(msg, RuntimeWarning)\n",
            "/usr/local/lib/python3.7/dist-packages/scipy/optimize/minpack.py:175: RuntimeWarning: The iteration is not making good progress, as measured by the \n",
            "  improvement from the last ten iterations.\n",
            "  warnings.warn(msg, RuntimeWarning)\n",
            "100%|██████████| 20/20 [00:08<00:00,  2.27it/s]\n"
          ]
        }
      ]
    },
    {
      "cell_type": "code",
      "source": [
        "len(main)"
      ],
      "metadata": {
        "colab": {
          "base_uri": "https://localhost:8080/"
        },
        "id": "pTiGf-PR8NCz",
        "outputId": "0ea66e4f-de62-42e1-e23b-7e4f691a06dc"
      },
      "execution_count": null,
      "outputs": [
        {
          "output_type": "execute_result",
          "data": {
            "text/plain": [
              "4"
            ]
          },
          "metadata": {},
          "execution_count": 13
        }
      ]
    },
    {
      "cell_type": "code",
      "source": [
        "plt.figure(figsize=(15,10))\n",
        "plt.plot(np.array(phin))\n",
        "plt.xlabel(\"Time\")\n",
        "plt.ylabel(\"Φ (phi)\")"
      ],
      "metadata": {
        "colab": {
          "base_uri": "https://localhost:8080/",
          "height": 624
        },
        "id": "bbjkZTrO3VUc",
        "outputId": "431b59da-dbeb-4813-e4b7-05a0cb0ffd4e"
      },
      "execution_count": null,
      "outputs": [
        {
          "output_type": "execute_result",
          "data": {
            "text/plain": [
              "Text(0, 0.5, 'Φ (phi)')"
            ]
          },
          "metadata": {},
          "execution_count": 8
        },
        {
          "output_type": "display_data",
          "data": {
            "text/plain": [
              "<Figure size 1080x720 with 1 Axes>"
            ],
            "image/png": "[encoded data removed]"
          },
          "metadata": {
            "needs_background": "light"
          }
        }
      ]
    },
    {
      "cell_type": "code",
      "source": [
        "out = []\n",
        "out.append(np.argsort(normed)[0])\n",
        "for i in range(3):\n",
        "  out.append(random.choice(np.argsort(normed)[1:50]))"
      ],
      "metadata": {
        "id": "sQXisZw7xv7X"
      },
      "execution_count": null,
      "outputs": []
    },
    {
      "cell_type": "code",
      "source": [
        "plt.figure(figsize=(10,6))\n",
        "itercounter = 1\n",
        "for j,o in zip(main,normeds):\n",
        "  # print(\"o\")\n",
        "  plt.subplot(1,4,itercounter)\n",
        "  plt.imshow(j[np.argsort(o)[0]].alpha,vmin = -1,vmax= 1)\n",
        "  itercounter +=1\n",
        "# plt.suptitle(\"Gamma\")\n",
        "plt.show()"
      ],
      "metadata": {
        "colab": {
          "base_uri": "https://localhost:8080/",
          "height": 173
        },
        "id": "AzY4pj5N8bct",
        "outputId": "5aa680f0-cd21-4c70-bf84-ee0172086875"
      },
      "execution_count": null,
      "outputs": [
        {
          "output_type": "display_data",
          "data": {
            "text/plain": [
              "<Figure size 720x432 with 4 Axes>"
            ],
            "image/png": "[encoded data removed]"
          },
          "metadata": {
            "needs_background": "light"
          }
        }
      ]
    },
    {
      "cell_type": "code",
      "source": [
        "plt.figure(figsize=(10,6))\n",
        "for sti,stv in enumerate(out):\n",
        "  plt.subplot(1,4,sti+1)\n",
        "  plt.imshow(inds[stv].gamma,vmin=-1,vmax=1)\n",
        "# plt.show()\n",
        "plt.colorbar(orientation='horizontal')\n",
        "plt.show()"
      ],
      "metadata": {
        "id": "0bmxMc6HNu6x",
        "outputId": "0cfa9acf-6105-4cb1-a503-c593aeeea0e0",
        "colab": {
          "base_uri": "https://localhost:8080/",
          "height": 233
        }
      },
      "execution_count": null,
      "outputs": [
        {
          "output_type": "display_data",
          "data": {
            "text/plain": [
              "<Figure size 720x432 with 5 Axes>"
            ],
            "image/png": "[encoded data removed]"
          },
          "metadata": {
            "needs_background": "light"
          }
        }
      ]
    },
    {
      "cell_type": "code",
      "source": [
        "H(np.array([.3,.3,-.3,.3]))"
      ],
      "metadata": {
        "colab": {
          "base_uri": "https://localhost:8080/"
        },
        "id": "VgBvHrbn54d3",
        "outputId": "ec759217-eff1-497d-a49b-12090dad1d80"
      },
      "execution_count": null,
      "outputs": [
        {
          "output_type": "stream",
          "name": "stdout",
          "text": [
            "[0.3 0.3 0.7 0.3]\n"
          ]
        },
        {
          "output_type": "execute_result",
          "data": {
            "text/plain": [
              "array([0.0105, 0.0105, 0.0945, 0.0105])"
            ]
          },
          "metadata": {},
          "execution_count": 172
        }
      ]
    }
  ]
}